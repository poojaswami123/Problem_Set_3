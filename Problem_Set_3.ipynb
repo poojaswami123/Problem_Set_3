{
 "cells": [
  {
   "cell_type": "markdown",
   "id": "c73d7c4c-fb74-4cfd-9608-477bf35ae895",
   "metadata": {},
   "source": [
    "### QUESTION-1\n"
   ]
  },
  {
   "cell_type": "markdown",
   "id": "f873bd5c-b8bd-4fdf-ac40-83cf47578d14",
   "metadata": {},
   "source": [
    "### Step 1. Import the necessary libraries"
   ]
  },
  {
   "cell_type": "code",
   "execution_count": 8,
   "id": "d4e470a4-3d92-40f5-8339-1b8cf3ec11cb",
   "metadata": {},
   "outputs": [],
   "source": [
    "import pandas as pd\n"
   ]
  },
  {
   "cell_type": "markdown",
   "id": "2526690a-db6c-4331-94cf-8dc0b7784498",
   "metadata": {},
   "source": [
    "### Step 2. Import the dataset "
   ]
  },
  {
   "cell_type": "code",
   "execution_count": 2,
   "id": "b67aecc7-53de-4aae-b8ee-24b80c04813e",
   "metadata": {},
   "outputs": [],
   "source": [
    "\n",
    "url = \"https://raw.githubusercontent.com/justmarkham/DAT8/master/data/u.user\"  \n",
    "users = pd.read_csv(url, sep='|')\n"
   ]
  },
  {
   "cell_type": "markdown",
   "id": "43f1e2d8-51cf-4b2a-a700-cdd908ca5a96",
   "metadata": {},
   "source": [
    "### Step 3. Assign it to a variable called users"
   ]
  },
  {
   "cell_type": "code",
   "execution_count": 14,
   "id": "54d51279-5053-4dfd-a6af-a55e618719dc",
   "metadata": {},
   "outputs": [
    {
     "name": "stdout",
     "output_type": "stream",
     "text": [
      "                                     user_id   age gender     occupation  \\\n",
      "0                                          1  24.0      M     technician   \n",
      "1                                          2  53.0      F          other   \n",
      "2                                          3  23.0      M         writer   \n",
      "3                                          4  24.0      M     technician   \n",
      "4                                          5  33.0      F          other   \n",
      "5                                          6  42.0      M      executive   \n",
      "6                                          7  57.0      M  administrator   \n",
      "7                                          8  36.0      M  administrator   \n",
      "8                                          9  29.0      M        student   \n",
      "9                                         10  53.0      M         lawyer   \n",
      "10  ... (include the rest of your data here)   NaN    NaN            NaN   \n",
      "\n",
      "    zip_code  \n",
      "0    85711.0  \n",
      "1    94043.0  \n",
      "2    32067.0  \n",
      "3    43537.0  \n",
      "4    15213.0  \n",
      "5    98101.0  \n",
      "6    91344.0  \n",
      "7     5201.0  \n",
      "8     1002.0  \n",
      "9    90703.0  \n",
      "10       NaN  \n"
     ]
    }
   ],
   "source": [
    "import pandas as pd\n",
    "from io import StringIO\n",
    "\n",
    "data = \"\"\"\n",
    "user_id|age|gender|occupation|zip_code\n",
    "1|24|M|technician|85711\n",
    "2|53|F|other|94043\n",
    "3|23|M|writer|32067\n",
    "4|24|M|technician|43537\n",
    "5|33|F|other|15213\n",
    "6|42|M|executive|98101\n",
    "7|57|M|administrator|91344\n",
    "8|36|M|administrator|05201\n",
    "9|29|M|student|01002\n",
    "10|53|M|lawyer|90703\n",
    "... (include the rest of your data here)\n",
    "\"\"\"\n",
    "\n",
    "\n",
    "users = pd.read_csv(StringIO(data), delimiter='|')\n",
    "\n",
    "print(users)\n"
   ]
  },
  {
   "cell_type": "markdown",
   "id": "eed0101c-c2b6-497b-9211-1e038b324952",
   "metadata": {},
   "source": [
    "### Step 4. Discover what is the mean age per occupation"
   ]
  },
  {
   "cell_type": "code",
   "execution_count": 3,
   "id": "538f14ea-f0e9-4221-8dfe-21ee15dec018",
   "metadata": {},
   "outputs": [
    {
     "name": "stdout",
     "output_type": "stream",
     "text": [
      "occupation\n",
      "administrator    38.746835\n",
      "artist           31.392857\n",
      "doctor           43.571429\n",
      "educator         42.010526\n",
      "engineer         36.388060\n",
      "entertainment    29.222222\n",
      "executive        38.718750\n",
      "healthcare       41.562500\n",
      "homemaker        32.571429\n",
      "lawyer           36.750000\n",
      "librarian        40.000000\n",
      "marketing        37.615385\n",
      "none             26.555556\n",
      "other            34.523810\n",
      "programmer       33.121212\n",
      "retired          63.071429\n",
      "salesman         35.666667\n",
      "scientist        35.548387\n",
      "student          22.081633\n",
      "technician       33.148148\n",
      "writer           36.311111\n",
      "Name: age, dtype: float64\n"
     ]
    }
   ],
   "source": [
    "mean_age_per_occupation = users.groupby('occupation')['age'].mean()\n",
    "print(mean_age_per_occupation)\n"
   ]
  },
  {
   "cell_type": "markdown",
   "id": "223136f7-7b57-4880-aed5-42e0844d258e",
   "metadata": {},
   "source": [
    "### Step 5. Discover what is the mean age per occupation"
   ]
  },
  {
   "cell_type": "code",
   "execution_count": 4,
   "id": "8a3acfe6-9138-40cd-bc40-95e0fe3a6c7f",
   "metadata": {},
   "outputs": [
    {
     "name": "stdout",
     "output_type": "stream",
     "text": [
      "occupation\n",
      "doctor           1.000000\n",
      "engineer         0.970149\n",
      "technician       0.962963\n",
      "retired          0.928571\n",
      "programmer       0.909091\n",
      "executive        0.906250\n",
      "scientist        0.903226\n",
      "entertainment    0.888889\n",
      "lawyer           0.833333\n",
      "salesman         0.750000\n",
      "educator         0.726316\n",
      "student          0.693878\n",
      "other            0.657143\n",
      "marketing        0.615385\n",
      "writer           0.577778\n",
      "none             0.555556\n",
      "administrator    0.544304\n",
      "artist           0.535714\n",
      "librarian        0.431373\n",
      "healthcare       0.312500\n",
      "homemaker        0.142857\n",
      "dtype: float64\n"
     ]
    }
   ],
   "source": [
    "\n",
    "male_ratio_per_occupation = users[users['gender'] == 'M'].groupby('occupation').size() / users.groupby('occupation').size()\n",
    "\n",
    "\n",
    "male_ratio_per_occupation_sorted = male_ratio_per_occupation.sort_values(ascending=False)\n",
    "print(male_ratio_per_occupation_sorted)\n"
   ]
  },
  {
   "cell_type": "markdown",
   "id": "7f1ccdb1-ade3-4e1e-8ea3-9963790a360a",
   "metadata": {},
   "source": [
    "### Step 6. For each occupation, calculate the minimum and maximum ages"
   ]
  },
  {
   "cell_type": "code",
   "execution_count": 5,
   "id": "ed9f5149-8068-420a-bf90-6c8a1fdd9b39",
   "metadata": {},
   "outputs": [
    {
     "name": "stdout",
     "output_type": "stream",
     "text": [
      "               min  max\n",
      "occupation             \n",
      "administrator   21   70\n",
      "artist          19   48\n",
      "doctor          28   64\n",
      "educator        23   63\n",
      "engineer        22   70\n",
      "entertainment   15   50\n",
      "executive       22   69\n",
      "healthcare      22   62\n",
      "homemaker       20   50\n",
      "lawyer          21   53\n",
      "librarian       23   69\n",
      "marketing       24   55\n",
      "none            11   55\n",
      "other           13   64\n",
      "programmer      20   63\n",
      "retired         51   73\n",
      "salesman        18   66\n",
      "scientist       23   55\n",
      "student          7   42\n",
      "technician      21   55\n",
      "writer          18   60\n"
     ]
    }
   ],
   "source": [
    "min_max_age_per_occupation = users.groupby('occupation')['age'].agg(['min', 'max'])\n",
    "print(min_max_age_per_occupation)\n"
   ]
  },
  {
   "cell_type": "markdown",
   "id": "c435c4bf-286e-4eab-ae27-52d83bc420f3",
   "metadata": {},
   "source": [
    "### Step 7. For each combination of occupation and sex, calculate the mean age"
   ]
  },
  {
   "cell_type": "code",
   "execution_count": 6,
   "id": "d28bc64e-5f66-4efc-a6e9-237eb4a2ad5f",
   "metadata": {},
   "outputs": [
    {
     "name": "stdout",
     "output_type": "stream",
     "text": [
      "occupation     gender\n",
      "administrator  F         40.638889\n",
      "               M         37.162791\n",
      "artist         F         30.307692\n",
      "               M         32.333333\n",
      "doctor         M         43.571429\n",
      "educator       F         39.115385\n",
      "               M         43.101449\n",
      "engineer       F         29.500000\n",
      "               M         36.600000\n",
      "entertainment  F         31.000000\n",
      "               M         29.000000\n",
      "executive      F         44.000000\n",
      "               M         38.172414\n",
      "healthcare     F         39.818182\n",
      "               M         45.400000\n",
      "homemaker      F         34.166667\n",
      "               M         23.000000\n",
      "lawyer         F         39.500000\n",
      "               M         36.200000\n",
      "librarian      F         40.000000\n",
      "               M         40.000000\n",
      "marketing      F         37.200000\n",
      "               M         37.875000\n",
      "none           F         36.500000\n",
      "               M         18.600000\n",
      "other          F         35.472222\n",
      "               M         34.028986\n",
      "programmer     F         32.166667\n",
      "               M         33.216667\n",
      "retired        F         70.000000\n",
      "               M         62.538462\n",
      "salesman       F         27.000000\n",
      "               M         38.555556\n",
      "scientist      F         28.333333\n",
      "               M         36.321429\n",
      "student        F         20.750000\n",
      "               M         22.669118\n",
      "technician     F         38.000000\n",
      "               M         32.961538\n",
      "writer         F         37.631579\n",
      "               M         35.346154\n",
      "Name: age, dtype: float64\n"
     ]
    }
   ],
   "source": [
    "mean_age_per_occupation_sex = users.groupby(['occupation', 'gender'])['age'].mean()\n",
    "print(mean_age_per_occupation_sex)\n"
   ]
  },
  {
   "cell_type": "markdown",
   "id": "ab4f5d3c-fe26-472e-a5b2-5d44f5d1baab",
   "metadata": {},
   "source": [
    "### Step 8. For each occupation present the percentage of women and men"
   ]
  },
  {
   "cell_type": "code",
   "execution_count": 15,
   "id": "6325342a-5f5e-42e5-8a35-a61d1959f10c",
   "metadata": {},
   "outputs": [
    {
     "name": "stdout",
     "output_type": "stream",
     "text": [
      "gender             F      M\n",
      "occupation                 \n",
      "administrator    0.0  100.0\n",
      "executive        0.0  100.0\n",
      "lawyer           0.0  100.0\n",
      "other          100.0    0.0\n",
      "student          0.0  100.0\n",
      "technician       0.0  100.0\n",
      "writer           0.0  100.0\n"
     ]
    }
   ],
   "source": [
    "# Count the number of men and women per occupation\n",
    "gender_count_per_occupation = users.groupby(['occupation', 'gender']).size().unstack().fillna(0)\n",
    "\n",
    "# Calculate the total count per occupation\n",
    "total_count_per_occupation = gender_count_per_occupation.sum(axis=1)\n",
    "\n",
    "# Calculate the percentage\n",
    "gender_percentage_per_occupation = gender_count_per_occupation.div(total_count_per_occupation, axis=0) * 100\n",
    "print(gender_percentage_per_occupation)\n"
   ]
  },
  {
   "cell_type": "markdown",
   "id": "21c75e68-1bef-489b-b437-ea0dc2cf7bf4",
   "metadata": {},
   "source": [
    "### QUESTION-2"
   ]
  },
  {
   "cell_type": "markdown",
   "id": "7d420007-03ff-416f-aff5-c970523d32d7",
   "metadata": {},
   "source": [
    "### Step 1. Import the necessary libraries"
   ]
  },
  {
   "cell_type": "code",
   "execution_count": 16,
   "id": "f1f6a0fa-ccb8-4da4-a61c-2c31ed91c6bc",
   "metadata": {},
   "outputs": [],
   "source": [
    "import pandas as pd\n"
   ]
  },
  {
   "cell_type": "markdown",
   "id": "2f42a127-d03b-4796-84be-c122c82d1644",
   "metadata": {},
   "source": [
    "### Step 2. Import the dataset "
   ]
  },
  {
   "cell_type": "code",
   "execution_count": 17,
   "id": "ca4fce77-63ce-428b-935d-eb95efb7cb5a",
   "metadata": {},
   "outputs": [],
   "source": [
    "url = \"https://raw.githubusercontent.com/guipsamora/pandas_exercises/master/02_Filtering_%26_Sorting/Euro12/Euro_2012_stats_TEAM.csv\"  # Replace with your dataset URL or path\n",
    "euro12 = pd.read_csv(url)\n"
   ]
  },
  {
   "cell_type": "markdown",
   "id": "c639a884-b61d-49f2-9f7a-d4b193e8ef1b",
   "metadata": {},
   "source": [
    "### Step 3. Assign it to a variable called euro12"
   ]
  },
  {
   "cell_type": "markdown",
   "id": "3d1e183a-0cf8-4d79-81a8-915acc363c86",
   "metadata": {},
   "source": [
    "### This is done in step-2"
   ]
  },
  {
   "cell_type": "markdown",
   "id": "b7d7e3b9-f016-480c-91f2-24bcdee18a16",
   "metadata": {},
   "source": [
    "### Step 4. Select only the Goal column "
   ]
  },
  {
   "cell_type": "code",
   "execution_count": 30,
   "id": "77b2b15c-9521-4a05-be55-767445d8c6c9",
   "metadata": {},
   "outputs": [
    {
     "name": "stdout",
     "output_type": "stream",
     "text": [
      "0      4\n",
      "1      4\n",
      "2      4\n",
      "3      5\n",
      "4      3\n",
      "5     10\n",
      "6      5\n",
      "7      6\n",
      "8      2\n",
      "9      2\n",
      "10     6\n",
      "11     1\n",
      "12     5\n",
      "13    12\n",
      "14     5\n",
      "15     2\n",
      "Name: Goals, dtype: int64\n"
     ]
    }
   ],
   "source": [
    "goals = euro12['Goals']\n",
    "print(goals)\n"
   ]
  },
  {
   "cell_type": "markdown",
   "id": "b8ed6ab9-8fd0-484a-8e35-0f284fe4bd5a",
   "metadata": {},
   "source": [
    "### Step 5. How many team participated in the Euro2012?"
   ]
  },
  {
   "cell_type": "code",
   "execution_count": 31,
   "id": "49999229-e024-4db9-881d-cb00b9af95c7",
   "metadata": {},
   "outputs": [
    {
     "name": "stdout",
     "output_type": "stream",
     "text": [
      "Number of teams: 16\n"
     ]
    }
   ],
   "source": [
    "num_teams = euro12.shape[0]\n",
    "print(\"Number of teams:\", num_teams)\n"
   ]
  },
  {
   "cell_type": "markdown",
   "id": "631af371-ae9f-4f6d-a5de-14bd68714aea",
   "metadata": {},
   "source": [
    "### Step 6. What is the number of columns in the dataset?"
   ]
  },
  {
   "cell_type": "code",
   "execution_count": 32,
   "id": "523d8c9a-feae-4d0d-830b-73e3456552f1",
   "metadata": {},
   "outputs": [
    {
     "name": "stdout",
     "output_type": "stream",
     "text": [
      "Number of teams: 16\n"
     ]
    }
   ],
   "source": [
    "num_teams = euro12.shape[0]\n",
    "print(\"Number of teams:\", num_teams)\n"
   ]
  },
  {
   "cell_type": "markdown",
   "id": "9fb04662-5b6d-4779-a248-67ee389fdd8c",
   "metadata": {},
   "source": [
    "### Step 7. View only the columns Team, Yellow Cards and Red Cards and assign them to a dataframe called discipline"
   ]
  },
  {
   "cell_type": "code",
   "execution_count": 34,
   "id": "1384d135-ce1f-46a1-83a0-c7d2f4fa3653",
   "metadata": {},
   "outputs": [
    {
     "name": "stdout",
     "output_type": "stream",
     "text": [
      "             Team  Yellow Cards  Red Cards\n",
      "0         Croatia             9          0\n",
      "1  Czech Republic             7          0\n",
      "2         Denmark             4          0\n",
      "3         England             5          0\n",
      "4          France             6          0\n"
     ]
    }
   ],
   "source": [
    "discipline = euro12[['Team', 'Yellow Cards', 'Red Cards']]\n",
    "print(discipline.head())\n"
   ]
  },
  {
   "cell_type": "markdown",
   "id": "d54f933d-de42-4dfb-9e6d-f99ffd30718e",
   "metadata": {},
   "source": [
    "### Step 8. Sort the teams by Red Cards, then to Yellow Cards"
   ]
  },
  {
   "cell_type": "code",
   "execution_count": 35,
   "id": "37ffba58-58ef-42d2-b5a6-407d08139d6b",
   "metadata": {},
   "outputs": [
    {
     "name": "stdout",
     "output_type": "stream",
     "text": [
      "                   Team  Yellow Cards  Red Cards\n",
      "6                Greece             9          1\n",
      "9                Poland             7          1\n",
      "11  Republic of Ireland             6          1\n",
      "7                 Italy            16          0\n",
      "10             Portugal            12          0\n",
      "13                Spain            11          0\n",
      "0               Croatia             9          0\n",
      "1        Czech Republic             7          0\n",
      "14               Sweden             7          0\n",
      "4                France             6          0\n",
      "12               Russia             6          0\n",
      "3               England             5          0\n",
      "8           Netherlands             5          0\n",
      "15              Ukraine             5          0\n",
      "2               Denmark             4          0\n",
      "5               Germany             4          0\n"
     ]
    }
   ],
   "source": [
    "discipline_sorted = discipline.sort_values(by=['Red Cards', 'Yellow Cards'], ascending=[False, False])\n",
    "print(discipline_sorted)\n"
   ]
  },
  {
   "cell_type": "markdown",
   "id": "5f5cc159-2b22-49af-8525-9f6b6cfc20db",
   "metadata": {},
   "source": [
    "### Step 9. Calculate the mean Yellow Cards given per Team"
   ]
  },
  {
   "cell_type": "code",
   "execution_count": 36,
   "id": "bab019b3-f620-466c-be9f-98dfd27c6955",
   "metadata": {},
   "outputs": [
    {
     "name": "stdout",
     "output_type": "stream",
     "text": [
      "Mean Yellow Cards: 7.4375\n"
     ]
    }
   ],
   "source": [
    "mean_yellow_cards = euro12['Yellow Cards'].mean()\n",
    "print(\"Mean Yellow Cards:\", mean_yellow_cards)\n"
   ]
  },
  {
   "cell_type": "markdown",
   "id": "8f0902f9-1a5b-4447-bce8-c0d5f4624abc",
   "metadata": {},
   "source": [
    "### Step 10. Filter teams that scored more than 6 goalsStep G"
   ]
  },
  {
   "cell_type": "code",
   "execution_count": 37,
   "id": "3e322311-db63-41f3-9776-0e943c091cb6",
   "metadata": {},
   "outputs": [
    {
     "name": "stdout",
     "output_type": "stream",
     "text": [
      "       Team  Goals  Shots on target  Shots off target Shooting Accuracy  \\\n",
      "5   Germany     10               32                32             47.8%   \n",
      "13    Spain     12               42                33             55.9%   \n",
      "\n",
      "   % Goals-to-shots  Total shots (inc. Blocked)  Hit Woodwork  Penalty goals  \\\n",
      "5             15.6%                          80             2              1   \n",
      "13            16.0%                         100             0              1   \n",
      "\n",
      "    Penalties not scored  ...  Saves made  Saves-to-shots ratio  Fouls Won  \\\n",
      "5                      0  ...          10                 62.6%         63   \n",
      "13                     0  ...          15                 93.8%        102   \n",
      "\n",
      "   Fouls Conceded  Offsides  Yellow Cards  Red Cards  Subs on  Subs off  \\\n",
      "5              49        12             4          0       15        15   \n",
      "13             83        19            11          0       17        17   \n",
      "\n",
      "    Players Used  \n",
      "5             17  \n",
      "13            18  \n",
      "\n",
      "[2 rows x 35 columns]\n"
     ]
    }
   ],
   "source": [
    "teams_high_goals = euro12[euro12['Goals'] > 6]\n",
    "print(teams_high_goals)\n"
   ]
  },
  {
   "cell_type": "markdown",
   "id": "c14b4bb8-4eeb-45c1-b000-8d901dedbd39",
   "metadata": {},
   "source": [
    "### 11. Select the teams that start with G"
   ]
  },
  {
   "cell_type": "code",
   "execution_count": 38,
   "id": "be5c972e-58c7-46b3-a52e-625d430ef66a",
   "metadata": {},
   "outputs": [
    {
     "name": "stdout",
     "output_type": "stream",
     "text": [
      "      Team  Goals  Shots on target  Shots off target Shooting Accuracy  \\\n",
      "5  Germany     10               32                32             47.8%   \n",
      "6   Greece      5                8                18             30.7%   \n",
      "\n",
      "  % Goals-to-shots  Total shots (inc. Blocked)  Hit Woodwork  Penalty goals  \\\n",
      "5            15.6%                          80             2              1   \n",
      "6            19.2%                          32             1              1   \n",
      "\n",
      "   Penalties not scored  ...  Saves made  Saves-to-shots ratio  Fouls Won  \\\n",
      "5                     0  ...          10                 62.6%         63   \n",
      "6                     1  ...          13                 65.1%         67   \n",
      "\n",
      "  Fouls Conceded  Offsides  Yellow Cards  Red Cards  Subs on  Subs off  \\\n",
      "5             49        12             4          0       15        15   \n",
      "6             48        12             9          1       12        12   \n",
      "\n",
      "   Players Used  \n",
      "5            17  \n",
      "6            20  \n",
      "\n",
      "[2 rows x 35 columns]\n"
     ]
    }
   ],
   "source": [
    "teams_starting_with_g = euro12[euro12['Team'].str.startswith('G')]\n",
    "print(teams_starting_with_g)\n"
   ]
  },
  {
   "cell_type": "markdown",
   "id": "4bea15f5-90d7-4f03-82f9-747842cf90d0",
   "metadata": {},
   "source": [
    "### Step 12. Select the first 7 columns"
   ]
  },
  {
   "cell_type": "code",
   "execution_count": 39,
   "id": "1cbbac13-c442-4814-a0b5-8f37f9857db9",
   "metadata": {},
   "outputs": [
    {
     "name": "stdout",
     "output_type": "stream",
     "text": [
      "                   Team  Goals  Shots on target  Shots off target  \\\n",
      "0               Croatia      4               13                12   \n",
      "1        Czech Republic      4               13                18   \n",
      "2               Denmark      4               10                10   \n",
      "3               England      5               11                18   \n",
      "4                France      3               22                24   \n",
      "5               Germany     10               32                32   \n",
      "6                Greece      5                8                18   \n",
      "7                 Italy      6               34                45   \n",
      "8           Netherlands      2               12                36   \n",
      "9                Poland      2               15                23   \n",
      "10             Portugal      6               22                42   \n",
      "11  Republic of Ireland      1                7                12   \n",
      "12               Russia      5                9                31   \n",
      "13                Spain     12               42                33   \n",
      "14               Sweden      5               17                19   \n",
      "15              Ukraine      2                7                26   \n",
      "\n",
      "   Shooting Accuracy % Goals-to-shots  Total shots (inc. Blocked)  \n",
      "0              51.9%            16.0%                          32  \n",
      "1              41.9%            12.9%                          39  \n",
      "2              50.0%            20.0%                          27  \n",
      "3              50.0%            17.2%                          40  \n",
      "4              37.9%             6.5%                          65  \n",
      "5              47.8%            15.6%                          80  \n",
      "6              30.7%            19.2%                          32  \n",
      "7              43.0%             7.5%                         110  \n",
      "8              25.0%             4.1%                          60  \n",
      "9              39.4%             5.2%                          48  \n",
      "10             34.3%             9.3%                          82  \n",
      "11             36.8%             5.2%                          28  \n",
      "12             22.5%            12.5%                          59  \n",
      "13             55.9%            16.0%                         100  \n",
      "14             47.2%            13.8%                          39  \n",
      "15             21.2%             6.0%                          38  \n"
     ]
    }
   ],
   "source": [
    "first_7_columns = euro12.iloc[:, :7]\n",
    "print(first_7_columns)\n"
   ]
  },
  {
   "cell_type": "markdown",
   "id": "b7ae6719-88dd-4922-bfd3-f14d3398119d",
   "metadata": {},
   "source": [
    "### Step 13. Select all columns except the last 3"
   ]
  },
  {
   "cell_type": "code",
   "execution_count": 40,
   "id": "24d6e9c4-90d8-4411-b564-6bf9a8303d22",
   "metadata": {},
   "outputs": [
    {
     "name": "stdout",
     "output_type": "stream",
     "text": [
      "                   Team  Goals  Shots on target  Shots off target  \\\n",
      "0               Croatia      4               13                12   \n",
      "1        Czech Republic      4               13                18   \n",
      "2               Denmark      4               10                10   \n",
      "3               England      5               11                18   \n",
      "4                France      3               22                24   \n",
      "5               Germany     10               32                32   \n",
      "6                Greece      5                8                18   \n",
      "7                 Italy      6               34                45   \n",
      "8           Netherlands      2               12                36   \n",
      "9                Poland      2               15                23   \n",
      "10             Portugal      6               22                42   \n",
      "11  Republic of Ireland      1                7                12   \n",
      "12               Russia      5                9                31   \n",
      "13                Spain     12               42                33   \n",
      "14               Sweden      5               17                19   \n",
      "15              Ukraine      2                7                26   \n",
      "\n",
      "   Shooting Accuracy % Goals-to-shots  Total shots (inc. Blocked)  \\\n",
      "0              51.9%            16.0%                          32   \n",
      "1              41.9%            12.9%                          39   \n",
      "2              50.0%            20.0%                          27   \n",
      "3              50.0%            17.2%                          40   \n",
      "4              37.9%             6.5%                          65   \n",
      "5              47.8%            15.6%                          80   \n",
      "6              30.7%            19.2%                          32   \n",
      "7              43.0%             7.5%                         110   \n",
      "8              25.0%             4.1%                          60   \n",
      "9              39.4%             5.2%                          48   \n",
      "10             34.3%             9.3%                          82   \n",
      "11             36.8%             5.2%                          28   \n",
      "12             22.5%            12.5%                          59   \n",
      "13             55.9%            16.0%                         100   \n",
      "14             47.2%            13.8%                          39   \n",
      "15             21.2%             6.0%                          38   \n",
      "\n",
      "    Hit Woodwork  Penalty goals  Penalties not scored  ...  Clean Sheets  \\\n",
      "0              0              0                     0  ...             0   \n",
      "1              0              0                     0  ...             1   \n",
      "2              1              0                     0  ...             1   \n",
      "3              0              0                     0  ...             2   \n",
      "4              1              0                     0  ...             1   \n",
      "5              2              1                     0  ...             1   \n",
      "6              1              1                     1  ...             1   \n",
      "7              2              0                     0  ...             2   \n",
      "8              2              0                     0  ...             0   \n",
      "9              0              0                     0  ...             0   \n",
      "10             6              0                     0  ...             2   \n",
      "11             0              0                     0  ...             0   \n",
      "12             2              0                     0  ...             0   \n",
      "13             0              1                     0  ...             5   \n",
      "14             3              0                     0  ...             1   \n",
      "15             0              0                     0  ...             0   \n",
      "\n",
      "    Blocks  Goals conceded Saves made  Saves-to-shots ratio  Fouls Won  \\\n",
      "0       10               3         13                 81.3%         41   \n",
      "1       10               6          9                 60.1%         53   \n",
      "2       10               5         10                 66.7%         25   \n",
      "3       29               3         22                 88.1%         43   \n",
      "4        7               5          6                 54.6%         36   \n",
      "5       11               6         10                 62.6%         63   \n",
      "6       23               7         13                 65.1%         67   \n",
      "7       18               7         20                 74.1%        101   \n",
      "8        9               5         12                 70.6%         35   \n",
      "9        8               3          6                 66.7%         48   \n",
      "10      11               4         10                 71.5%         73   \n",
      "11      23               9         17                 65.4%         43   \n",
      "12       8               3         10                 77.0%         34   \n",
      "13       8               1         15                 93.8%        102   \n",
      "14      12               5          8                 61.6%         35   \n",
      "15       4               4         13                 76.5%         48   \n",
      "\n",
      "    Fouls Conceded  Offsides  Yellow Cards  Red Cards  \n",
      "0               62         2             9          0  \n",
      "1               73         8             7          0  \n",
      "2               38         8             4          0  \n",
      "3               45         6             5          0  \n",
      "4               51         5             6          0  \n",
      "5               49        12             4          0  \n",
      "6               48        12             9          1  \n",
      "7               89        16            16          0  \n",
      "8               30         3             5          0  \n",
      "9               56         3             7          1  \n",
      "10              90        10            12          0  \n",
      "11              51        11             6          1  \n",
      "12              43         4             6          0  \n",
      "13              83        19            11          0  \n",
      "14              51         7             7          0  \n",
      "15              31         4             5          0  \n",
      "\n",
      "[16 rows x 32 columns]\n"
     ]
    }
   ],
   "source": [
    "all_except_last_3 = euro12.iloc[:, :-3]\n",
    "print(all_except_last_3)\n"
   ]
  },
  {
   "cell_type": "markdown",
   "id": "12c2f107-9812-4302-981e-efb8d376711c",
   "metadata": {},
   "source": [
    "### Step 14. Present only the Shooting Accuracy from England, Italy and Russia"
   ]
  },
  {
   "cell_type": "code",
   "execution_count": 41,
   "id": "07cbc7f2-f3be-47a9-b3c9-d417e004ffdc",
   "metadata": {},
   "outputs": [
    {
     "name": "stdout",
     "output_type": "stream",
     "text": [
      "       Team Shooting Accuracy\n",
      "3   England             50.0%\n",
      "7     Italy             43.0%\n",
      "12   Russia             22.5%\n"
     ]
    }
   ],
   "source": [
    "shooting_accuracy = euro12[euro12['Team'].isin(['England', 'Italy', 'Russia'])][['Team', 'Shooting Accuracy']]\n",
    "print(shooting_accuracy)\n",
    "\n"
   ]
  },
  {
   "cell_type": "markdown",
   "id": "4ff0e71f-8e68-4129-a5d7-7d81aa422834",
   "metadata": {},
   "source": [
    "### QUESTION-3"
   ]
  },
  {
   "cell_type": "code",
   "execution_count": 42,
   "id": "2f307a3f-0a9f-40ea-af6f-f8070c227e31",
   "metadata": {},
   "outputs": [
    {
     "name": "stdout",
     "output_type": "stream",
     "text": [
      "299\n",
      "     bigcolumn\n",
      "0            2\n",
      "1            1\n",
      "2            3\n",
      "3            3\n",
      "4            1\n",
      "..         ...\n",
      "295      27030\n",
      "296      28201\n",
      "297      23211\n",
      "298      19551\n",
      "299      24281\n",
      "\n",
      "[300 rows x 1 columns]\n"
     ]
    }
   ],
   "source": [
    "import pandas as pd\n",
    "import numpy as np\n",
    "\n",
    "# Step 2: Generate three different Series with random values\n",
    "series1 = pd.Series(np.random.randint(1, 5, size=100))  \n",
    "series2 = pd.Series(np.random.randint(1, 4, size=100))  \n",
    "series3 = pd.Series(np.random.randint(10000, 30001, size=100))  \n",
    "\n",
    "df = pd.DataFrame({\n",
    "    'bedrs': series1,\n",
    "    'bathrs': series2,\n",
    "    'price_sqr_meter': series3\n",
    "})\n",
    "\n",
    "\n",
    "bigcolumn = pd.DataFrame({\n",
    "    'bigcolumn': pd.concat([series1, series2, series3], ignore_index=True)\n",
    "})\n",
    "\n",
    "print(bigcolumn.index.max())  # Should print 299 if concatenation is correct\n",
    "\n",
    "bigcolumn_reindexed = bigcolumn.reset_index(drop=True)\n",
    "\n",
    "print(bigcolumn_reindexed)\n"
   ]
  },
  {
   "cell_type": "markdown",
   "id": "1ecc04bd-a1c4-4ce6-9c6a-fe72a501edc2",
   "metadata": {},
   "source": [
    "### QUESTION-4"
   ]
  },
  {
   "cell_type": "code",
   "execution_count": 45,
   "id": "c8de4fcd-3f77-4349-91e4-6ce66c027462",
   "metadata": {},
   "outputs": [],
   "source": [
    "import pandas as pd\n",
    "import numpy as np\n",
    "\n",
    "data_dict = {\n",
    "    'Yr': [1961, 1961, 1961],\n",
    "    'Mo': [1, 1, 1],\n",
    "    'Dy': [1, 2, 3],\n",
    "    'RPT': [15.04, 14.71, 18.50],\n",
    "    'VAL': [14.96, np.nan, 16.88],\n",
    "    'ROS': [13.17, 10.83, 12.33],\n",
    "    'KIL': [9.29, 6.50, 10.13],\n",
    "    'SHA': [np.nan, 12.62, 11.17],\n",
    "    'BIR': [9.87, 7.67, 6.17],\n",
    "    'DUB': [13.67, 11.50, 11.25],\n",
    "    'CLA': [10.25, 10.04, np.nan],\n",
    "    'MUL': [10.83, 9.79, 8.50],\n",
    "    'CLO': [12.58, 9.67, 7.67],\n",
    "    'BEL': [18.50, 17.54, 12.75],\n",
    "    'MAL': [15.04, 13.83, 12.71]\n",
    "}\n",
    "\n",
    "# Convert to DataFrame\n",
    "df = pd.DataFrame(data_dict)\n",
    "\n",
    "# Save to a text file\n",
    "df.to_csv('wind.txt', sep=' ', index=False)\n"
   ]
  },
  {
   "cell_type": "code",
   "execution_count": 49,
   "id": "01957104-ec49-422c-bfc0-be9d1fbb5b78",
   "metadata": {},
   "outputs": [
    {
     "name": "stdout",
     "output_type": "stream",
     "text": [
      "File loaded successfully.\n"
     ]
    }
   ],
   "source": [
    "import pandas as pd\n",
    "\n",
    "# Load the dataset\n",
    "try:\n",
    "    data = pd.read_csv('wind.txt', delim_whitespace=True)\n",
    "    print(\"File loaded successfully.\")\n",
    "except Exception as e:\n",
    "    print(f\"Error loading file: {e}\")\n"
   ]
  },
  {
   "cell_type": "code",
   "execution_count": 50,
   "id": "568dda86-30e6-4e92-89c5-35856688ee06",
   "metadata": {},
   "outputs": [
    {
     "name": "stdout",
     "output_type": "stream",
     "text": [
      "     Yr  Mo  Dy    RPT    VAL    ROS    KIL    SHA    BIR    DUB    CLA  \\\n",
      "0  1961   1   1  15.04  14.96  13.17   9.29   9.87  13.67  10.25  10.83   \n",
      "1  1961   1   2  14.71  10.83   6.50  12.62   7.67  11.50  10.04   9.79   \n",
      "2  1961   1   3  18.50  16.88  12.33  10.13  11.17   6.17  11.25   8.50   \n",
      "\n",
      "     MUL    CLO    BEL  MAL  \n",
      "0  12.58  18.50  15.04  NaN  \n",
      "1   9.67  17.54  13.83  NaN  \n",
      "2   7.67  12.75  12.71  NaN  \n",
      "Index(['Yr', 'Mo', 'Dy', 'RPT', 'VAL', 'ROS', 'KIL', 'SHA', 'BIR', 'DUB',\n",
      "       'CLA', 'MUL', 'CLO', 'BEL', 'MAL'],\n",
      "      dtype='object')\n"
     ]
    }
   ],
   "source": [
    "print(data.head())\n",
    "print(data.columns)\n"
   ]
  },
  {
   "cell_type": "code",
   "execution_count": 51,
   "id": "56cbe879-6506-42ff-8771-c7c15eddf3b4",
   "metadata": {},
   "outputs": [
    {
     "name": "stdout",
     "output_type": "stream",
     "text": [
      "Yr Mo Dy RPT VAL ROS KIL SHA BIR DUB CLA MUL CLO BEL MAL\n",
      "1961 1 1 15.04 14.96 13.17 9.29  9.87 13.67 10.25 10.83 12.58 18.5 15.04\n",
      "1961 1 2 14.71  10.83 6.5 12.62 7.67 11.5 10.04 9.79 9.67 17.54 13.83\n",
      "1961 1 3 18.5 16.88 12.33 10.13 11.17 6.17 11.25  8.5 7.67 12.75 12.71\n",
      "\n"
     ]
    }
   ],
   "source": [
    "import os\n",
    "\n",
    "file_path = 'wind.txt'\n",
    "if os.path.exists(file_path):\n",
    "    with open(file_path, 'r') as file:\n",
    "        content = file.read()\n",
    "        print(content[:500])  \n",
    "else:\n",
    "    print(f\"File not found: {file_path}\")\n"
   ]
  },
  {
   "cell_type": "code",
   "execution_count": 54,
   "id": "5682e306-e441-4d4b-94f5-d9c12a5293bb",
   "metadata": {},
   "outputs": [
    {
     "name": "stdout",
     "output_type": "stream",
     "text": [
      "              RPT    VAL    ROS    KIL    SHA    BIR    DUB    CLA    MUL  \\\n",
      "Date                                                                        \n",
      "1961-01-01  15.04  14.96  13.17   9.29   9.87  13.67  10.25  10.83  12.58   \n",
      "1961-01-02  14.71  10.83   6.50  12.62   7.67  11.50  10.04   9.79   9.67   \n",
      "1961-01-03  18.50  16.88  12.33  10.13  11.17   6.17  11.25   8.50   7.67   \n",
      "\n",
      "              CLO    BEL  MAL  \n",
      "Date                           \n",
      "1961-01-01  18.50  15.04  NaN  \n",
      "1961-01-02  17.54  13.83  NaN  \n",
      "1961-01-03  12.75  12.71  NaN  \n"
     ]
    }
   ],
   "source": [
    "import pandas as pd\n",
    "\n",
    "# Load the dataset\n",
    "data = pd.read_csv('wind.txt', delim_whitespace=True)\n",
    "\n",
    "data['Yr'] = data['Yr'].astype(int)\n",
    "data['Mo'] = data['Mo'].astype(int)\n",
    "data['Dy'] = data['Dy'].astype(int)\n",
    "\n",
    "data['Date'] = pd.to_datetime(data['Yr'].astype(str) + '-' +\n",
    "                              data['Mo'].astype(str) + '-' +\n",
    "                              data['Dy'].astype(str),\n",
    "                              format='%Y-%m-%d')\n",
    "\n",
    "# Set 'Date' as the index and drop the old columns\n",
    "data.set_index('Date', inplace=True)\n",
    "data.drop(columns=['Yr', 'Mo', 'Dy'], inplace=True)\n",
    "\n",
    "# Display the updated DataFrame\n",
    "print(data.head())\n"
   ]
  },
  {
   "cell_type": "code",
   "execution_count": 69,
   "id": "66281a6e-7b23-4f86-84c4-485920a12f31",
   "metadata": {},
   "outputs": [
    {
     "name": "stdout",
     "output_type": "stream",
     "text": [
      "              RPT    VAL    ROS    KIL    SHA    BIR    DUB    CLA    MUL  \\\n",
      "Date                                                                        \n",
      "1961-01-01  15.04  14.96  13.17   9.29   9.87  13.67  10.25  10.83  12.58   \n",
      "1961-01-02  14.71  10.83   6.50  12.62   7.67  11.50  10.04   9.79   9.67   \n",
      "1961-01-03  18.50  16.88  12.33  10.13  11.17   6.17  11.25   8.50   7.67   \n",
      "\n",
      "              CLO    BEL  MAL  \n",
      "Date                           \n",
      "1961-01-01  18.50  15.04  NaN  \n",
      "1961-01-02  17.54  13.83  NaN  \n",
      "1961-01-03  12.75  12.71  NaN  \n",
      "datetime64[ns]\n"
     ]
    }
   ],
   "source": [
    "import pandas as pd\n",
    "\n",
    "# Load the dataset\n",
    "data = pd.read_csv('wind.txt', delim_whitespace=True)\n",
    "\n",
    "# Ensure the columns 'Yr', 'Mo', and 'Dy' are integers\n",
    "data['Yr'] = data['Yr'].astype(int)\n",
    "data['Mo'] = data['Mo'].astype(int)\n",
    "data['Dy'] = data['Dy'].astype(int)\n",
    "\n",
    "# Create the 'Date' column by combining 'Yr', 'Mo', and 'Dy'\n",
    "data['Date'] = pd.to_datetime(\n",
    "    data[['Yr', 'Mo', 'Dy']].astype(str).agg('-'.join, axis=1),\n",
    "    format='%Y-%m-%d'\n",
    ")\n",
    "\n",
    "# Set 'Date' as the index and drop the old columns\n",
    "data.set_index('Date', inplace=True)\n",
    "data.drop(columns=['Yr', 'Mo', 'Dy'], inplace=True)\n",
    "\n",
    "# Display the updated DataFrame\n",
    "print(data.head())\n",
    "print(data.index.dtype)  # Should be datetime64[ns]\n"
   ]
  },
  {
   "cell_type": "code",
   "execution_count": 70,
   "id": "de8110f4-04ed-4c3a-8357-5d3c5ff7decc",
   "metadata": {},
   "outputs": [
    {
     "name": "stdout",
     "output_type": "stream",
     "text": [
      "Columns before date creation: Index(['Yr', 'Mo', 'Dy', 'RPT', 'VAL', 'ROS', 'KIL', 'SHA', 'BIR', 'DUB',\n",
      "       'CLA', 'MUL', 'CLO', 'BEL', 'MAL'],\n",
      "      dtype='object')\n",
      "Columns after date creation: Index(['Yr', 'Mo', 'Dy', 'RPT', 'VAL', 'ROS', 'KIL', 'SHA', 'BIR', 'DUB',\n",
      "       'CLA', 'MUL', 'CLO', 'BEL', 'MAL', 'Date'],\n",
      "      dtype='object')\n",
      "datetime64[ns]\n",
      "              RPT    VAL    ROS    KIL    SHA    BIR    DUB    CLA    MUL  \\\n",
      "Date                                                                        \n",
      "1961-01-01  15.04  14.96  13.17   9.29   9.87  13.67  10.25  10.83  12.58   \n",
      "1961-01-02  14.71  10.83   6.50  12.62   7.67  11.50  10.04   9.79   9.67   \n",
      "1961-01-03  18.50  16.88  12.33  10.13  11.17   6.17  11.25   8.50   7.67   \n",
      "\n",
      "              CLO    BEL  MAL  \n",
      "Date                           \n",
      "1961-01-01  18.50  15.04  NaN  \n",
      "1961-01-02  17.54  13.83  NaN  \n",
      "1961-01-03  12.75  12.71  NaN  \n"
     ]
    }
   ],
   "source": [
    "import pandas as pd\n",
    "\n",
    "\n",
    "data = pd.read_csv('wind.txt', delim_whitespace=True)\n",
    "\n",
    "data['Yr'] = data['Yr'].astype(int)\n",
    "data['Mo'] = data['Mo'].astype(int)\n",
    "data['Dy'] = data['Dy'].astype(int)\n",
    "\n",
    "print(\"Columns before date creation:\", data.columns)\n",
    "\n",
    "data['Date'] = pd.to_datetime(\n",
    "    data[['Yr', 'Mo', 'Dy']].astype(str).agg('-'.join, axis=1),\n",
    "    format='%Y-%m-%d'\n",
    ")\n",
    "\n",
    "print(\"Columns after date creation:\", data.columns)\n",
    "\n",
    "data.set_index('Date', inplace=True)\n",
    "data.drop(columns=['Yr', 'Mo', 'Dy'], inplace=True)\n",
    "\n",
    "print(data.index.dtype)  # Should be datetime64[ns]\n",
    "\n",
    "# Display the updated DataFrame\n",
    "print(data.head())\n"
   ]
  },
  {
   "cell_type": "code",
   "execution_count": 57,
   "id": "71060883-2485-4bf9-aefc-f4da4ee27f39",
   "metadata": {},
   "outputs": [
    {
     "name": "stdout",
     "output_type": "stream",
     "text": [
      "RPT    0\n",
      "VAL    0\n",
      "ROS    0\n",
      "KIL    0\n",
      "SHA    0\n",
      "BIR    0\n",
      "DUB    0\n",
      "CLA    0\n",
      "MUL    0\n",
      "CLO    0\n",
      "BEL    0\n",
      "MAL    3\n",
      "dtype: int64\n"
     ]
    }
   ],
   "source": [
    "missing_values = data.isna().sum()\n",
    "print(missing_values)\n"
   ]
  },
  {
   "cell_type": "code",
   "execution_count": 58,
   "id": "77d81dca-9b9a-44ce-aa76-0ad7ed414b07",
   "metadata": {},
   "outputs": [
    {
     "name": "stdout",
     "output_type": "stream",
     "text": [
      "33\n"
     ]
    }
   ],
   "source": [
    "non_missing_values = data.notna().sum().sum()\n",
    "print(non_missing_values)\n"
   ]
  },
  {
   "cell_type": "code",
   "execution_count": 59,
   "id": "6c1e49bc-b854-4c52-875e-c47ff40c78a5",
   "metadata": {},
   "outputs": [
    {
     "name": "stdout",
     "output_type": "stream",
     "text": [
      "11.998787878787878\n"
     ]
    }
   ],
   "source": [
    "mean_windspeed = data.mean().mean()\n",
    "print(mean_windspeed)\n"
   ]
  },
  {
   "cell_type": "code",
   "execution_count": 60,
   "id": "361627fa-8159-45ef-9c44-5d544ffdfd79",
   "metadata": {},
   "outputs": [
    {
     "name": "stdout",
     "output_type": "stream",
     "text": [
      "     count       mean       std    min     25%    50%     75%    max\n",
      "RPT    3.0  16.083333  2.099389  14.71  14.875  15.04  16.770  18.50\n",
      "VAL    3.0  14.223333  3.091542  10.83  12.895  14.96  15.920  16.88\n",
      "ROS    3.0  10.666667  3.632800   6.50   9.415  12.33  12.750  13.17\n",
      "KIL    3.0  10.680000  1.731791   9.29   9.710  10.13  11.375  12.62\n",
      "SHA    3.0   9.570000  1.769181   7.67   8.770   9.87  10.520  11.17\n",
      "BIR    3.0  10.446667  3.859357   6.17   8.835  11.50  12.585  13.67\n",
      "DUB    3.0  10.513333  0.646555  10.04  10.145  10.25  10.750  11.25\n",
      "CLA    3.0   9.706667  1.167233   8.50   9.145   9.79  10.310  10.83\n",
      "MUL    3.0   9.973333  2.469015   7.67   8.670   9.67  11.125  12.58\n",
      "CLO    3.0  16.263333  3.080265  12.75  15.145  17.54  18.020  18.50\n",
      "BEL    3.0  13.860000  1.165290  12.71  13.270  13.83  14.435  15.04\n",
      "MAL    0.0        NaN       NaN    NaN     NaN    NaN     NaN    NaN\n"
     ]
    }
   ],
   "source": [
    "loc_stats = data.describe().T\n",
    "loc_stats['std'] = data.std()\n",
    "print(loc_stats)\n"
   ]
  },
  {
   "cell_type": "code",
   "execution_count": 61,
   "id": "7e0dbd38-94cd-4eb3-9b07-130a3878842e",
   "metadata": {},
   "outputs": [
    {
     "name": "stdout",
     "output_type": "stream",
     "text": [
      "             min    max       mean       std\n",
      "Date                                        \n",
      "1961-01-01  9.29  18.50  13.018182  2.808875\n",
      "1961-01-02  6.50  17.54  11.336364  3.188994\n",
      "1961-01-03  6.17  18.50  11.641818  3.681912\n"
     ]
    }
   ],
   "source": [
    "day_stats = data.agg(['min', 'max', 'mean', 'std'], axis=1)\n",
    "print(day_stats)\n"
   ]
  },
  {
   "cell_type": "code",
   "execution_count": 62,
   "id": "45b53e7c-86ff-4825-821c-7a8769d62d61",
   "metadata": {},
   "outputs": [
    {
     "name": "stdout",
     "output_type": "stream",
     "text": [
      "RPT      16.083333\n",
      "VAL      14.223333\n",
      "ROS      10.666667\n",
      "KIL      10.680000\n",
      "SHA       9.570000\n",
      "BIR      10.446667\n",
      "DUB      10.513333\n",
      "CLA       9.706667\n",
      "MUL       9.973333\n",
      "CLO      16.263333\n",
      "BEL      13.860000\n",
      "MAL            NaN\n",
      "Month     1.000000\n",
      "dtype: float64\n"
     ]
    }
   ],
   "source": [
    "data['Month'] = data.index.month\n",
    "data['Year'] = data.index.year\n",
    "\n",
    "# Filter for January across all years\n",
    "january_data = data[data['Month'] == 1]\n",
    "average_january_windspeed = january_data.groupby('Year').mean().mean()\n",
    "print(average_january_windspeed)\n"
   ]
  },
  {
   "cell_type": "code",
   "execution_count": 63,
   "id": "6a3958e7-4586-4e0b-a855-b9189b76ac46",
   "metadata": {},
   "outputs": [
    {
     "name": "stdout",
     "output_type": "stream",
     "text": [
      "                  RPT        VAL        ROS    KIL   SHA        BIR  \\\n",
      "Date                                                                  \n",
      "1961-12-31  16.083333  14.223333  10.666667  10.68  9.57  10.446667   \n",
      "\n",
      "                  DUB       CLA       MUL        CLO    BEL  MAL  Month  \\\n",
      "Date                                                                      \n",
      "1961-12-31  10.513333  9.706667  9.973333  16.263333  13.86  NaN    1.0   \n",
      "\n",
      "              Year  \n",
      "Date                \n",
      "1961-12-31  1961.0  \n"
     ]
    }
   ],
   "source": [
    "yearly_data = data.resample('Y').mean()\n",
    "print(yearly_data)\n"
   ]
  },
  {
   "cell_type": "code",
   "execution_count": 64,
   "id": "1a3916ae-faf1-4a59-800f-ecda0047ffcb",
   "metadata": {},
   "outputs": [
    {
     "name": "stdout",
     "output_type": "stream",
     "text": [
      "                  RPT        VAL        ROS    KIL   SHA        BIR  \\\n",
      "Date                                                                  \n",
      "1961-01-31  16.083333  14.223333  10.666667  10.68  9.57  10.446667   \n",
      "\n",
      "                  DUB       CLA       MUL        CLO    BEL  MAL  Month  \\\n",
      "Date                                                                      \n",
      "1961-01-31  10.513333  9.706667  9.973333  16.263333  13.86  NaN    1.0   \n",
      "\n",
      "              Year  \n",
      "Date                \n",
      "1961-01-31  1961.0  \n"
     ]
    }
   ],
   "source": [
    "monthly_data = data.resample('M').mean()\n",
    "print(monthly_data)\n"
   ]
  },
  {
   "cell_type": "code",
   "execution_count": 65,
   "id": "883e96d2-3948-499f-8b4b-821f581e857b",
   "metadata": {},
   "outputs": [
    {
     "name": "stdout",
     "output_type": "stream",
     "text": [
      "               RPT     VAL     ROS     KIL   SHA     BIR     DUB     CLA  \\\n",
      "Date                                                                       \n",
      "1961-01-01  15.040  14.960  13.170   9.290  9.87  13.670  10.250  10.830   \n",
      "1961-01-08  16.605  13.855   9.415  11.375  9.42   8.835  10.645   9.145   \n",
      "\n",
      "              MUL     CLO    BEL  MAL  Month    Year  \n",
      "Date                                                  \n",
      "1961-01-01  12.58  18.500  15.04  NaN    1.0  1961.0  \n",
      "1961-01-08   8.67  15.145  13.27  NaN    1.0  1961.0  \n"
     ]
    }
   ],
   "source": [
    "weekly_data = data.resample('W').mean()\n",
    "print(weekly_data)\n"
   ]
  },
  {
   "cell_type": "code",
   "execution_count": 66,
   "id": "b7ce1eb2-f00d-4fbc-9eb0-ce906fca64c5",
   "metadata": {},
   "outputs": [
    {
     "name": "stdout",
     "output_type": "stream",
     "text": [
      "              RPT                             VAL                           \\\n",
      "              min    max    mean       std    min    max    mean       std   \n",
      "Date                                                                         \n",
      "1961-01-01  15.04  15.04  15.040       NaN  14.96  14.96  14.960       NaN   \n",
      "1961-01-08  14.71  18.50  16.605  2.679935  10.83  16.88  13.855  4.277996   \n",
      "\n",
      "              ROS         ...  MAL     Month                Year        \\\n",
      "              min    max  ... mean std   min max mean  std   min   max   \n",
      "Date                      ...                                            \n",
      "1961-01-01  13.17  13.17  ...  NaN NaN     1   1  1.0  NaN  1961  1961   \n",
      "1961-01-08   6.50  12.33  ...  NaN NaN     1   1  1.0  0.0  1961  1961   \n",
      "\n",
      "                         \n",
      "              mean  std  \n",
      "Date                     \n",
      "1961-01-01  1961.0  NaN  \n",
      "1961-01-08  1961.0  0.0  \n",
      "\n",
      "[2 rows x 56 columns]\n"
     ]
    }
   ],
   "source": [
    "# Define the start of the first week\n",
    "weekly_data = data.resample('W').agg(['min', 'max', 'mean', 'std'])\n",
    "weekly_data = weekly_data[weekly_data.index < '1962-01-01']  # Limit to the first 52 weeks\n",
    "print(weekly_data)\n"
   ]
  },
  {
   "cell_type": "markdown",
   "id": "e405d800-e6b6-4665-9d69-5f0ee10f255d",
   "metadata": {},
   "source": [
    "### QUESTION-5"
   ]
  },
  {
   "cell_type": "code",
   "execution_count": 71,
   "id": "3e1c70de-b8d5-4fd1-b4ac-67dc03727800",
   "metadata": {},
   "outputs": [],
   "source": [
    "import pandas as pd\n"
   ]
  },
  {
   "cell_type": "code",
   "execution_count": 72,
   "id": "d336b93f-285c-43ff-a349-f16614ab5db0",
   "metadata": {},
   "outputs": [],
   "source": [
    "url = \"https://raw.githubusercontent.com/justmarkham/DAT8/master/data/chipotle.tsv\"\n",
    "chipo = pd.read_csv(url, sep='\\t')\n"
   ]
  },
  {
   "cell_type": "code",
   "execution_count": 73,
   "id": "5ca76624-3115-4637-8229-8525021e6043",
   "metadata": {},
   "outputs": [
    {
     "name": "stdout",
     "output_type": "stream",
     "text": [
      "   order_id  quantity                              item_name  \\\n",
      "0         1         1           Chips and Fresh Tomato Salsa   \n",
      "1         1         1                                   Izze   \n",
      "2         1         1                       Nantucket Nectar   \n",
      "3         1         1  Chips and Tomatillo-Green Chili Salsa   \n",
      "4         2         2                           Chicken Bowl   \n",
      "5         3         1                           Chicken Bowl   \n",
      "6         3         1                          Side of Chips   \n",
      "7         4         1                          Steak Burrito   \n",
      "8         4         1                       Steak Soft Tacos   \n",
      "9         5         1                          Steak Burrito   \n",
      "\n",
      "                                  choice_description item_price  \n",
      "0                                                NaN     $2.39   \n",
      "1                                       [Clementine]     $3.39   \n",
      "2                                            [Apple]     $3.39   \n",
      "3                                                NaN     $2.39   \n",
      "4  [Tomatillo-Red Chili Salsa (Hot), [Black Beans...    $16.98   \n",
      "5  [Fresh Tomato Salsa (Mild), [Rice, Cheese, Sou...    $10.98   \n",
      "6                                                NaN     $1.69   \n",
      "7  [Tomatillo Red Chili Salsa, [Fajita Vegetables...    $11.75   \n",
      "8  [Tomatillo Green Chili Salsa, [Pinto Beans, Ch...     $9.25   \n",
      "9  [Fresh Tomato Salsa, [Rice, Black Beans, Pinto...     $9.25   \n"
     ]
    }
   ],
   "source": [
    "print(chipo.head(10))\n"
   ]
  },
  {
   "cell_type": "code",
   "execution_count": 74,
   "id": "67155f85-df0d-4aae-9de1-c3ed4af1c307",
   "metadata": {},
   "outputs": [
    {
     "name": "stdout",
     "output_type": "stream",
     "text": [
      "4622\n"
     ]
    }
   ],
   "source": [
    "num_observations = chipo.shape[0]\n",
    "print(num_observations)\n"
   ]
  },
  {
   "cell_type": "code",
   "execution_count": 75,
   "id": "f9df9de2-449d-48de-8287-73e85c6cf74d",
   "metadata": {},
   "outputs": [
    {
     "name": "stdout",
     "output_type": "stream",
     "text": [
      "5\n"
     ]
    }
   ],
   "source": [
    "num_columns = chipo.shape[1]\n",
    "print(num_columns)\n"
   ]
  },
  {
   "cell_type": "code",
   "execution_count": 76,
   "id": "3f4531c9-b247-423d-8cf4-dde275c899dc",
   "metadata": {},
   "outputs": [
    {
     "name": "stdout",
     "output_type": "stream",
     "text": [
      "Index(['order_id', 'quantity', 'item_name', 'choice_description',\n",
      "       'item_price'],\n",
      "      dtype='object')\n"
     ]
    }
   ],
   "source": [
    "column_names = chipo.columns\n",
    "print(column_names)\n"
   ]
  },
  {
   "cell_type": "code",
   "execution_count": 77,
   "id": "9313cb7d-24b8-4e1d-b662-0b647fce2272",
   "metadata": {},
   "outputs": [
    {
     "name": "stdout",
     "output_type": "stream",
     "text": [
      "RangeIndex(start=0, stop=4622, step=1)\n"
     ]
    }
   ],
   "source": [
    "index_info = chipo.index\n",
    "print(index_info)\n"
   ]
  },
  {
   "cell_type": "code",
   "execution_count": 78,
   "id": "0289b1fb-6682-4e3d-9be9-55ba29127c2d",
   "metadata": {},
   "outputs": [
    {
     "name": "stdout",
     "output_type": "stream",
     "text": [
      "Chicken Bowl\n"
     ]
    }
   ],
   "source": [
    "most_ordered_item = chipo.groupby('item_name')['quantity'].sum().idxmax()\n",
    "print(most_ordered_item)\n"
   ]
  },
  {
   "cell_type": "code",
   "execution_count": 79,
   "id": "4b12880a-02af-4958-a1d9-ebffb9749f9f",
   "metadata": {},
   "outputs": [
    {
     "name": "stdout",
     "output_type": "stream",
     "text": [
      "761\n"
     ]
    }
   ],
   "source": [
    "most_ordered_quantity = chipo.groupby('item_name')['quantity'].sum().max()\n",
    "print(most_ordered_quantity)\n"
   ]
  },
  {
   "cell_type": "code",
   "execution_count": 80,
   "id": "7424447b-2b06-4b86-a884-6d985bc966af",
   "metadata": {},
   "outputs": [
    {
     "name": "stdout",
     "output_type": "stream",
     "text": [
      "[Diet Coke]\n"
     ]
    }
   ],
   "source": [
    "most_ordered_choice_description = chipo['choice_description'].mode()[0]\n",
    "print(most_ordered_choice_description)\n"
   ]
  },
  {
   "cell_type": "code",
   "execution_count": 81,
   "id": "f4026258-f3b5-44ac-854c-6c40edc70fdb",
   "metadata": {},
   "outputs": [
    {
     "name": "stdout",
     "output_type": "stream",
     "text": [
      "4972\n"
     ]
    }
   ],
   "source": [
    "total_items_ordered = chipo['quantity'].sum()\n",
    "print(total_items_ordered)\n"
   ]
  },
  {
   "cell_type": "code",
   "execution_count": 83,
   "id": "57f706e0-784e-4f1e-86a2-f41cdc9cf8e9",
   "metadata": {},
   "outputs": [],
   "source": [
    "chipo['item_price'] = chipo['item_price'].replace('[\\$,]', '', regex=True).astype(float)\n"
   ]
  },
  {
   "cell_type": "code",
   "execution_count": 84,
   "id": "3aeca908-0de7-4c42-92e8-6dea174d02c9",
   "metadata": {},
   "outputs": [
    {
     "name": "stdout",
     "output_type": "stream",
     "text": [
      "float64\n"
     ]
    }
   ],
   "source": [
    "print(chipo['item_price'].dtype)\n"
   ]
  },
  {
   "cell_type": "code",
   "execution_count": 85,
   "id": "3eda874b-8a66-417d-94e9-4efa21b0c5d6",
   "metadata": {},
   "outputs": [],
   "source": [
    "chipo['item_price'] = chipo['item_price'].apply(lambda x: float(x))\n"
   ]
  },
  {
   "cell_type": "code",
   "execution_count": 86,
   "id": "4e3610e4-9b8d-4635-bdc8-578af1d8cfd0",
   "metadata": {},
   "outputs": [
    {
     "name": "stdout",
     "output_type": "stream",
     "text": [
      "float64\n"
     ]
    }
   ],
   "source": [
    "print(chipo['item_price'].dtype)\n"
   ]
  },
  {
   "cell_type": "code",
   "execution_count": 87,
   "id": "45c6362d-6725-4a9b-a5a9-4c0f390f99b8",
   "metadata": {},
   "outputs": [
    {
     "name": "stdout",
     "output_type": "stream",
     "text": [
      "39237.02\n"
     ]
    }
   ],
   "source": [
    "revenue = (chipo['item_price'] * chipo['quantity']).sum()\n",
    "print(revenue)\n"
   ]
  },
  {
   "cell_type": "code",
   "execution_count": 88,
   "id": "d7b1b1a6-33eb-4868-bee9-d63b51513051",
   "metadata": {},
   "outputs": [
    {
     "name": "stdout",
     "output_type": "stream",
     "text": [
      "1834\n"
     ]
    }
   ],
   "source": [
    "num_orders = chipo['order_id'].nunique()\n",
    "print(num_orders)\n"
   ]
  },
  {
   "cell_type": "code",
   "execution_count": 89,
   "id": "ec8aeecb-4fe6-48a3-a565-c18d48493cd5",
   "metadata": {},
   "outputs": [
    {
     "name": "stdout",
     "output_type": "stream",
     "text": [
      "21.39423118865867\n"
     ]
    }
   ],
   "source": [
    "average_revenue_per_order = revenue / num_orders\n",
    "print(average_revenue_per_order)\n"
   ]
  },
  {
   "cell_type": "code",
   "execution_count": 90,
   "id": "73b09cd2-5c5d-414e-ac85-14bf60311d4c",
   "metadata": {},
   "outputs": [
    {
     "name": "stdout",
     "output_type": "stream",
     "text": [
      "50\n"
     ]
    }
   ],
   "source": [
    "num_different_items = chipo['item_name'].nunique()\n",
    "print(num_different_items)\n"
   ]
  },
  {
   "cell_type": "markdown",
   "id": "17fd6083-fcf1-4775-92b1-b60dd4b9ceba",
   "metadata": {},
   "source": [
    "### QUESTION-6"
   ]
  },
  {
   "cell_type": "code",
   "execution_count": 93,
   "id": "b56c9366-eb61-47d2-8b53-55cdfeae14a2",
   "metadata": {},
   "outputs": [
    {
     "data": {
      "image/png": "[encoded data removed]",
      "text/plain": [
       "<Figure size 1200x600 with 1 Axes>"
      ]
     },
     "metadata": {},
     "output_type": "display_data"
    }
   ],
   "source": [
    "import matplotlib.pyplot as plt\n",
    "import pandas as pd\n",
    "\n",
    "# Define the range of years and example data for marriages and divorces per capita\n",
    "years = list(range(1867, 2015))\n",
    "marriages_per_capita = [0.05 + 0.01 * (year - 1867) for year in years]  # Example marriage rates\n",
    "divorces_per_capita = [0.03 + 0.02 * (year - 1867) for year in years]   # Example divorce rates\n",
    "\n",
    "# Create a DataFrame to organize the data\n",
    "data = pd.DataFrame({\n",
    "    'Year': years,\n",
    "    'Marriages per Capita': marriages_per_capita,\n",
    "    'Divorces per Capita': divorces_per_capita\n",
    "})\n",
    "\n",
    "# Plot the data\n",
    "plt.figure(figsize=(12, 6))\n",
    "plt.plot(data['Year'], data['Marriages per Capita'], label='Marriages per Capita', color='blue')\n",
    "plt.plot(data['Year'], data['Divorces per Capita'], label='Divorces per Capita', color='red')\n",
    "\n",
    "# Set plot labels and title\n",
    "plt.xlabel('Year')\n",
    "plt.ylabel('Rate per Capita')\n",
    "plt.title('Number of Marriages and Divorces per Capita in the U.S. (1867-2014)')\n",
    "plt.legend()\n",
    "\n",
    "# Display the plot\n",
    "plt.grid(True)\n",
    "plt.tight_layout()\n",
    "plt.show()\n"
   ]
  },
  {
   "cell_type": "markdown",
   "id": "3dab9d7a-cf02-4ad4-b603-378e59549057",
   "metadata": {},
   "source": [
    "### QUESTION-7"
   ]
  },
  {
   "cell_type": "code",
   "execution_count": 94,
   "id": "f4ce5fd5-76dc-482b-96ce-f33de9908ec4",
   "metadata": {},
   "outputs": [
    {
     "data": {
      "image/png": "[encoded data removed]",
      "text/plain": [
       "<Figure size 1000x600 with 1 Axes>"
      ]
     },
     "metadata": {},
     "output_type": "display_data"
    }
   ],
   "source": [
    "import matplotlib.pyplot as plt\n",
    "import numpy as np\n",
    "\n",
    "# Define the years for the chart\n",
    "years = ['1900', '1950', '2000']\n",
    "marriages_per_capita = [0.05, 0.07, 0.05]  \n",
    "divorces_per_capita = [0.01, 0.03, 0.04]   \n",
    "\n",
    "# Define the width of each bar\n",
    "bar_width = 0.35\n",
    "\n",
    "positions = np.arange(len(years))\n",
    "\n",
    "fig, ax = plt.subplots(figsize=(10, 6))\n",
    "\n",
    "marriage_bars = ax.bar(positions - bar_width/2, marriages_per_capita, bar_width, label='Marriages per Capita', color='b')\n",
    "divorce_bars = ax.bar(positions + bar_width/2, divorces_per_capita, bar_width, label='Divorces per Capita', color='r')\n",
    "\n",
    "# Set labels and title\n",
    "ax.set_xlabel('Year')\n",
    "ax.set_ylabel('Rate per Capita')\n",
    "ax.set_title('Comparison of Marriages and Divorces per Capita in the U.S. for Selected Years')\n",
    "ax.set_xticks(positions)\n",
    "ax.set_xticklabels(years)\n",
    "ax.legend()\n",
    "\n",
    "# Show the bar chart\n",
    "plt.show()\n"
   ]
  },
  {
   "cell_type": "markdown",
   "id": "2d9cdcf4-e8a4-487c-b427-5875c7e79115",
   "metadata": {},
   "source": [
    "### QUESTION-8"
   ]
  },
  {
   "cell_type": "code",
   "execution_count": 96,
   "id": "9ce58158-e6c5-461b-ad09-c9c3f2b003bf",
   "metadata": {},
   "outputs": [
    {
     "data": {
      "image/png": "[encoded data removed]",
      "text/plain": [
       "<Figure size 1200x800 with 1 Axes>"
      ]
     },
     "metadata": {},
     "output_type": "display_data"
    }
   ],
   "source": [
    "import matplotlib.pyplot as plt\n",
    "\n",
    "actors = ['John Wick (Keanu Reeves)', 'James Bond (Sean Connery)', 'The Terminator (Arnold Schwarzenegger)', 'Ethan Hunt (Tom Cruise)', 'Jason Bourne (Matt Damon)']\n",
    "kill_counts = [299, 150, 108, 100, 95]  # Example kill counts\n",
    "\n",
    "sorted_indices = sorted(range(len(kill_counts)), key=lambda i: kill_counts[i], reverse=True)\n",
    "sorted_actors = [actors[i] for i in sorted_indices]\n",
    "sorted_kill_counts = [kill_counts[i] for i in sorted_indices]\n",
    "\n",
    "# Create the horizontal bar chart\n",
    "plt.figure(figsize=(12, 8))\n",
    "plt.barh(sorted_actors, sorted_kill_counts, color='skyblue')\n",
    "plt.xlabel('Kill Count')\n",
    "plt.ylabel('Actors')\n",
    "plt.title('Deadliest Actors in Hollywood')\n",
    "\n",
    "# Add labels to each bar\n",
    "for index, value in enumerate(sorted_kill_counts):\n",
    "    plt.text(value, index, str(value))\n",
    "\n",
    "plt.gca().invert_yaxis()  # Optional: to have the actor with the highest kill count on top\n",
    "plt.show()\n"
   ]
  },
  {
   "cell_type": "markdown",
   "id": "7e5ee2fb-6225-45e1-be2a-a5e13d7da29c",
   "metadata": {},
   "source": [
    "### QUESTION-9"
   ]
  },
  {
   "cell_type": "code",
   "execution_count": 97,
   "id": "766e6626-04fb-4cd3-ba74-fa6d740f38fb",
   "metadata": {},
   "outputs": [
    {
     "data": {
      "image/png": "[encoded data removed]",
      "text/plain": [
       "<Figure size 640x480 with 1 Axes>"
      ]
     },
     "metadata": {},
     "output_type": "display_data"
    }
   ],
   "source": [
    "import matplotlib.pyplot as plt\n",
    "import pandas as pd\n",
    "\n",
    "# Data for Roman Emperors\n",
    "data = {\n",
    "    'Status': ['Assassinated', 'Not Assassinated'],\n",
    "    'Count': [82, 38]  # Adjust numbers based on actual data\n",
    "}\n",
    "\n",
    "# Create a DataFrame\n",
    "df = pd.DataFrame(data)\n",
    "\n",
    "# Calculate percentages\n",
    "df['Percentage'] = (df['Count'] / df['Count'].sum()) * 100\n",
    "\n",
    "# Plotting\n",
    "fig, ax = plt.subplots()\n",
    "ax.pie(df['Count'], labels=df['Status'], autopct='%1.1f%%', colors=['#ff9999','#66b3ff'], startangle=140)\n",
    "ax.axis('equal')  # Equal aspect ratio ensures that pie is drawn as a circle.\n",
    "\n",
    "plt.title('Fraction of Roman Emperors Assassinated')\n",
    "plt.show()\n"
   ]
  },
  {
   "cell_type": "markdown",
   "id": "ab060bdd-756b-45c0-8961-1f5c10c76b2d",
   "metadata": {},
   "source": [
    "### QUESTION-10"
   ]
  },
  {
   "cell_type": "code",
   "execution_count": 98,
   "id": "bb8e8f6c-757a-4dee-be5a-63f5c33999cd",
   "metadata": {},
   "outputs": [],
   "source": [
    "import matplotlib.pyplot as plt\n",
    "import pandas as pd\n",
    "import numpy as np\n"
   ]
  },
  {
   "cell_type": "code",
   "execution_count": 99,
   "id": "3fe5732a-a71c-44c7-b429-641cda0fb83b",
   "metadata": {},
   "outputs": [],
   "source": [
    "years = np.arange(2000, 2010)\n",
    "revenue = np.random.randint(1e6, 1e7, size=len(years))\n",
    "phds_awarded = np.random.randint(500, 2000, size=len(years))\n",
    "\n",
    "# Creating a DataFrame\n",
    "data = pd.DataFrame({\n",
    "    'Year': years,\n",
    "    'Total Revenue': revenue,\n",
    "    'PhDs Awarded': phds_awarded\n",
    "})\n"
   ]
  },
  {
   "cell_type": "code",
   "execution_count": 100,
   "id": "ccf897d9-fd09-4aa8-885a-9e9d036b9b0c",
   "metadata": {},
   "outputs": [
    {
     "data": {
      "image/png": "[encoded data removed]",
      "text/plain": [
       "<Figure size 1000x600 with 1 Axes>"
      ]
     },
     "metadata": {},
     "output_type": "display_data"
    }
   ],
   "source": [
    "# Scatter plot\n",
    "plt.figure(figsize=(10, 6))\n",
    "\n",
    "# Plotting each year with a different color\n",
    "for year in years:\n",
    "    subset = data[data['Year'] == year]\n",
    "    plt.scatter(subset['Total Revenue'], subset['PhDs Awarded'], label=year, alpha=0.7)\n",
    "\n",
    "plt.xlabel('Total Revenue Earned by Arcades')\n",
    "plt.ylabel('Number of Computer Science PhDs Awarded')\n",
    "plt.title('Total Revenue vs. Number of Computer Science PhDs Awarded (2000-2009)')\n",
    "plt.legend(title='Year')\n",
    "plt.grid(True)\n",
    "plt.show()\n"
   ]
  },
  {
   "cell_type": "code",
   "execution_count": null,
   "id": "33cae0ac-6f6d-437e-b52f-5d2a26932e99",
   "metadata": {},
   "outputs": [],
   "source": []
  }
 ],
 "metadata": {
  "kernelspec": {
   "display_name": "Python 3 (ipykernel)",
   "language": "python",
   "name": "python3"
  },
  "language_info": {
   "codemirror_mode": {
    "name": "ipython",
    "version": 3
   },
   "file_extension": ".py",
   "mimetype": "text/x-python",
   "name": "python",
   "nbconvert_exporter": "python",
   "pygments_lexer": "ipython3",
   "version": "3.11.7"
  }
 },
 "nbformat": 4,
 "nbformat_minor": 5
}
